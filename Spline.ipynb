{
  "nbformat": 4,
  "nbformat_minor": 0,
  "metadata": {
    "colab": {
      "name": "Spline.ipynb",
      "provenance": [],
      "collapsed_sections": []
    },
    "kernelspec": {
      "name": "python3",
      "display_name": "Python 3"
    }
  },
  "cells": [
    {
      "cell_type": "code",
      "metadata": {
        "id": "xneHAx2-UVvD"
      },
      "source": [
        "import matplotlib.pyplot as plt\n",
        "import numpy as np\n",
        "import sympy as sym\n",
        "from sympy.plotting import plot"
      ],
      "execution_count": 1,
      "outputs": []
    },
    {
      "cell_type": "code",
      "metadata": {
        "id": "SjlnVGMGaQsw",
        "outputId": "3897cb74-7c83-44db-892c-f8434914a56e",
        "colab": {
          "base_uri": "https://localhost:8080/"
        }
      },
      "source": [
        "n=int(input(\"Ingrese el numero de puntos que quiere unir: \"))\n",
        "v_x=[]\n",
        "v_y=[]\n",
        "for i in range(0,n):\n",
        "  print(\"Ingrese la coordenada x\" + str(i) + \":\")\n",
        "  x=float(input(\"\"))\n",
        "  v_x.append(x)\n",
        "  print(\"Ingrese la coordenada y\" + str(i) + \":\")\n",
        "  y=float(input(\"\"))\n",
        "  v_y.append(y)\n",
        "  print(\"\")"
      ],
      "execution_count": 2,
      "outputs": [
        {
          "output_type": "stream",
          "name": "stdout",
          "text": [
            "Ingrese el numero de puntos que quiere unir: 3\n",
            "Ingrese la coordenada x0:\n",
            "1\n",
            "Ingrese la coordenada y0:\n",
            "1\n",
            "\n",
            "Ingrese la coordenada x1:\n",
            "5\n",
            "Ingrese la coordenada y1:\n",
            "8\n",
            "\n",
            "Ingrese la coordenada x2:\n",
            "10\n",
            "Ingrese la coordenada y2:\n",
            "-5\n",
            "\n"
          ]
        }
      ]
    },
    {
      "cell_type": "code",
      "metadata": {
        "id": "XgVqRYgHSLQN",
        "outputId": "c64c6cc9-4a7e-43c1-fc6e-c16197d0945c",
        "colab": {
          "base_uri": "https://localhost:8080/",
          "height": 265
        }
      },
      "source": [
        "h=np.zeros(n-1)\n",
        "for i in range(0,n-1):\n",
        "  h[i]=v_x[i+1]-v_x[i]\n",
        "\n",
        "w=np.zeros(n-2)\n",
        "for i in range(1,n-1):\n",
        "  w[i-1]=((6)/h[i])*(v_y[i+1]-v_y[i])-((6)/h[i-1])*(v_y[i]-v_y[i-1])\n",
        "\n",
        "a=np.zeros((n-2,n-2))\n",
        "for i in range(0,n-2):\n",
        "  for j in range(0,n-2):\n",
        "    if i==j:\n",
        "      a[i,j]=2*(h[i]+h[i+1])\n",
        "    if i==j+1:\n",
        "      a[i,j]=h[i]\n",
        "    if i==j-1:\n",
        "      a[i,j]=h[i+1]\n",
        "\n",
        "R = np.linalg.solve(a,w)\n",
        "\n",
        "RF=np.zeros(n)\n",
        "RF[0]=0\n",
        "RF[n-1]=0\n",
        "for i in range(1,n-1):\n",
        "  RF[i]=R[i-1]\n",
        "\n",
        "\n",
        "x = sym.Symbol('x')\n",
        "px_tabla = []\n",
        "for j in range(0,n-1,1):\n",
        "  pxtramo = (RF[j]/6)*((((v_x[j+1] - x)**3)/h[j])-h[j]*(v_x[j+1]-x)) + (RF[j+1]/6)*((((x-v_x[j])**3)/h[j])-h[j]*(x - v_x[j]))\n",
        "  pxtramo = pxtramo + v_y[j]*((v_x[j+1]-x)/h[j]) + v_y[j+1]*((x - v_x[j])/h[j])\n",
        "        \n",
        "  pxtramo = pxtramo.expand()\n",
        "  px_tabla.append(pxtramo)\n",
        "\n",
        "xtraza = np.array([])\n",
        "ytraza = np.array([])\n",
        "tramo = 1\n",
        "while not(tramo>=n):\n",
        "  a = v_x[tramo-1]\n",
        "  b = v_x[tramo]\n",
        "  xtramo = np.linspace(a,b,100)\n",
        "  pxtramo = px_tabla[tramo-1]\n",
        "  pxt = sym.lambdify('x',pxtramo)\n",
        "  ytramo = pxt(xtramo)\n",
        "  xtraza = np.concatenate((xtraza,xtramo))\n",
        "  ytraza = np.concatenate((ytraza,ytramo))\n",
        "  tramo = tramo + 1\n",
        "\n",
        "plt.plot(v_x,v_y,'ro', label='Puntos')\n",
        "plt.plot(xtraza,ytraza, label='Spline', color='blue')\n",
        "plt.legend()\n",
        "plt.axis('square')\n",
        "plt.axhline(y=0, color='k', linestyle='-')\n",
        "plt.axvline(x=0,color='k', linestyle='-')\n",
        "plt.show()"
      ],
      "execution_count": 3,
      "outputs": [
        {
          "output_type": "display_data",
          "data": {
            "image/png": "[encoded data removed]",
            "text/plain": [
              "<Figure size 432x288 with 1 Axes>"
            ]
          },
          "metadata": {
            "needs_background": "light"
          }
        }
      ]
    }
  ]
}